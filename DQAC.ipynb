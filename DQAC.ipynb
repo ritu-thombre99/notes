{
 "cells": [
  {
   "cell_type": "markdown",
   "id": "2d6bd658",
   "metadata": {},
   "source": [
    "# QFT using Digital Analog Quantum Computation"
   ]
  },
  {
   "cell_type": "markdown",
   "id": "e34563fb",
   "metadata": {},
   "source": [
    "![Z-counting](https://learn.qiskit.org/content/v2/ch-algorithms/images/zbasis-counting.gif \"z-counting\")\n",
    "![QFT-counting](https://learn.qiskit.org/content/v2/ch-algorithms/images/fourierbasis-counting.gif \"qft-counting\")"
   ]
  },
  {
   "cell_type": "markdown",
   "id": "f9fda81c",
   "metadata": {},
   "source": [
    "QFT operation is:\n",
    "$$QFT|j\\rangle = \\frac{1}{2^{n/2}} \\sum_{k=0}^{2^n-1}{e^{2\\pi ijk/{2^n}}}|k\\rangle$$\n",
    "\n",
    "Unitary for QFT can be defined as:\n",
    "$$ U_{QFT} = \\frac{1}{2^{n/2}} \\sum_{k=0}^{2^n-1}{e^{2\\pi ijk/{2^n}}}|k\\rangle \\langle j|$$"
   ]
  },
  {
   "cell_type": "markdown",
   "id": "9dd7a959",
   "metadata": {},
   "source": [
    "## Simplifying QFT operation to superposition of all qubits:\n",
    "\n",
    "$$QFT_N|x\\rangle = \\frac{1}{2^{n/2}} \\sum_{y=0}^{2^n-1}{e^{2\\pi ix\\color{red}{y/{2^n}}}}|y\\rangle$$\n",
    "\n",
    "rewriting $y=y_1y_2y_3...y_n$ \n",
    "\n",
    "and $y/2^n=\\sum_{k=1}^{n}{y_k/2^k}$\n",
    "$$QFT_N|x\\rangle = \\frac{1}{2^{n/2}} \\sum_{y=0}^{2^n-1}{e^{2\\pi ix \\color{red}{\\sum_{k=1}^{n}{y_k/2^k}}}} \\color{red}{|y_1,y_2,y_3...y_n\\rangle}$$,\n",
    "\n",
    "Exponent to the sum is just product of exponents: $a^{m+n}=a^ma^n$\n",
    "\n",
    "Therefore,\n",
    "$$QFT_N|x\\rangle = \\frac{1}{2^{n/2}} \\sum_{y=0}^{2^n-1} \\prod_{k=1}^{n} {e^{2\\pi ix \\color{red}{y_k/2^k}}} \\color{red}{|y_1,y_2,y_3...y_n\\rangle}$$,\n",
    "\n",
    "Expand product:\n",
    "\n",
    "$$QFT_N|x\\rangle = \\frac{1}{2^{n/2}} \\sum_{y=0}^{2^n-1} {e^{2\\pi ix \\color{red}{\\frac{y_1}{2}}}}{e^{2\\pi ix \\color{red}{\\frac{y_2}{4}}}}{e^{2\\pi ix \\color{red}{\\frac{y_3}{8}}}}...{e^{2\\pi ix \\color{red}{\\frac{y_n}{2^n}}}} \\color{red}{|y_1,y_2,y_3...y_n\\rangle}$$,\n",
    "\n",
    "We can expand $\\sum_{y=0}^{2^n-1}$ for $y=y_1y_2y_3...y_n$ as $\\sum_{y=0}^{2^n-1}{} = \\sum_{y_1=0}^{1}{}\\sum_{y_2=0}^{1}{}\\sum_{y_3=0}^{1}{}...\\sum_{y_n=0}^{1}{}$,\n",
    "\n",
    "$$QFT_N|x\\rangle = \\frac{1}{2^{n/2}} \\sum_{y_1=0}^{1}{}\\sum_{y_2=0}^{1}{}\\sum_{y_3=0}^{1}{}...\\sum_{y_n=0}^{1}{} {e^{2\\pi ix \\color{red}{\\frac{y_1}{2}}}}{e^{2\\pi ix \\color{red}{\\frac{y_2}{4}}}}{e^{2\\pi ix \\color{red}{\\frac{y_3}{8}}}}...{e^{2\\pi ix \\color{red}{\\frac{y_n}{2^n}}}} \\color{red}{|y_1,y_2,y_3...y_n\\rangle}$$,\n",
    "\n",
    "This can just be written as a tensor product:\n",
    "\n",
    "$$QFT_N|x\\rangle = \\frac{1}{2^{n/2}} \\bigotimes_{k = 1}^{n} {(|0\\rangle + e^{\\frac{2\\pi ix}{2^k}}|1\\rangle)}$$\n",
    "$$QFT_N|x\\rangle = \\frac{1}{2^{n/2}} (|0\\rangle + e^{\\frac{2\\pi ix}{2}}|1\\rangle) \\bigotimes (|0\\rangle + e^{\\frac{2\\pi ix}{2^2}}|1\\rangle) \\bigotimes (|0\\rangle + e^{\\frac{2\\pi ix}{2^3}}|1\\rangle) \\bigotimes .... \\bigotimes (|0\\rangle + e^{\\frac{2\\pi ix}{2^n}}|1\\rangle) $$"
   ]
  },
  {
   "cell_type": "markdown",
   "id": "519b0c93",
   "metadata": {},
   "source": [
    "## Designing QFT \n",
    "\n",
    "![QFT Circuit](https://learn.qiskit.org/content/v2/ch-algorithms/images/qft.png)\n",
    "\n",
    "here,$UROT_k$ is applied as a controlled unitary to get $(|0\\rangle + e^{\\frac{2\\pi ix}{2^k}}|1\\rangle)$\n",
    "\n",
    "$$UROT_k = \\begin{bmatrix}\n",
    "    1       & 0 \\\\\n",
    "    0       & e^{\\frac{2\\pi i}{2^k}} \\\\\n",
    "\\end{bmatrix}$$\n",
    "\n",
    "\n",
    "Consider input state $|x_1,x_2,x_3,...,x_n\\rangle$\n",
    "After the first application of Hadamard on $|x_1\\rangle \\rightarrow \\frac{1}{\\sqrt{2}}{(|0\\rangle+e^{\\frac{2\\pi ix_1}{2}}|1\\rangle)}$, if $|x_1\\rangle=|0\\rangle$, then after applying $H$ we get $\\frac{1}{\\sqrt{2}}{(|0\\rangle+|1\\rangle)}$, else, we get $\\frac{1}{\\sqrt{2}}{(|0\\rangle-|1\\rangle)}$, i.e. final state depends upon the binary value of $x_1$\n",
    "\n",
    "$$H_1|x_1,x_2,x_3,...,x_n\\rangle = \\frac{1}{\\sqrt{2}}{(|0\\rangle+e^{\\frac{2\\pi ix_1}{2}}|1\\rangle)}\\bigotimes|x_2,x_3,...,x_n\\rangle$$\n",
    "\n",
    "After applying $UROT_2$ on qubit 1, the state changes to\n",
    "\n",
    "$$\\frac{1}{\\sqrt{2}}{(|0\\rangle+exp{(\\frac{2\\pi ix_1}{2}+\\frac{2\\pi ix_2}{2^2})}|1\\rangle)}\\bigotimes|x_2,x_3,...,x_n\\rangle$$\n",
    "\n",
    "After applying last $UROT_n$ gate on qubit 1 we get\n",
    "\n",
    "$$\\frac{1}{\\sqrt{2}}{(|0\\rangle+exp{(\\frac{2\\pi ix_1}{2}+\\frac{2\\pi ix_2}{2^2} + \\frac{2\\pi ix_3}{2^3} + ... + \\frac{2\\pi ix_n}{2^n})}|1\\rangle)}\\bigotimes|x_2,x_3,...,x_n\\rangle$$\n",
    "\n",
    "But $\\frac{2\\pi ix_1}{2}+\\frac{2\\pi ix_2}{2^2} + \\frac{2\\pi ix_3}{2^3} + ... + \\frac{2\\pi ix_n}{2^n} = \\frac{2\\pi ix}{2^n}$ in binary expansion\n",
    "\n",
    "$$\\frac{1}{\\sqrt{2}}{(|0\\rangle+exp{(\\frac{2\\pi ix}{2^n})}|1\\rangle)}\\bigotimes|x_2,x_3,...,x_n\\rangle$$\n",
    "\n",
    "\n",
    "AFter applying all the gates, final state will be:\n",
    "\n",
    "$$\\frac{1}{\\sqrt{2}}{(|0\\rangle+exp{(\\frac{2\\pi ix}{2^n})}|1\\rangle)}\\bigotimes \\frac{1}{\\sqrt{2}}{(|0\\rangle+exp{(\\frac{2\\pi ix}{2^{n-1}})}|1\\rangle)} \\bigotimes \\frac{1}{\\sqrt{2}}{(|0\\rangle+exp{(\\frac{2\\pi ix}{2^{n-2}})}|1\\rangle)} \\bigotimes \\frac{1}{\\sqrt{2}}{(|0\\rangle+exp{(\\frac{2\\pi ix}{2^{2}})}|1\\rangle)} \\bigotimes \\frac{1}{\\sqrt{2}}{(|0\\rangle+exp{(\\frac{2\\pi ix}{2^{2}})}|1\\rangle)}$$\n",
    "\n",
    "\n",
    "This is just the reverse of what we obtained in QFT above.\n",
    "This can be fixed by applying SWAP gates at the end or using different endian format in our calculation."
   ]
  },
  {
   "cell_type": "code",
   "execution_count": 37,
   "id": "048b287a",
   "metadata": {},
   "outputs": [],
   "source": [
    "import qiskit\n",
    "from qiskit import QuantumCircuit, QuantumRegister, ClassicalRegister, execute, BasicAer\n",
    "import numpy as np\n",
    "from qiskit.visualization import plot_histogram\n",
    "\n",
    "def custom_qft(data_qubits):\n",
    "    qr_data = QuantumRegister(data_qubits)\n",
    "    cr_data = ClassicalRegister(data_qubits)\n",
    "    qc = QuantumCircuit(qr_data,cr_data)\n",
    "    i = data_qubits\n",
    "    while i>=1:\n",
    "        n = i - 1\n",
    "        qc.h(qr_data[n]) \n",
    "        for qubit in range(n):\n",
    "            qc.cp(np.pi/2**(n-qubit), qr_data[qubit], qr_data[n])\n",
    "        i = i-1\n",
    "#     qc.measure(qr_data,cr_data)\n",
    "    return qc"
   ]
  },
  {
   "cell_type": "code",
   "execution_count": 38,
   "id": "e383f9e4",
   "metadata": {},
   "outputs": [],
   "source": [
    "qc = custom_qft(5)"
   ]
  },
  {
   "cell_type": "code",
   "execution_count": 39,
   "id": "fd68f7d0",
   "metadata": {},
   "outputs": [
    {
     "data": {
      "image/png": "[encoded data removed]",
      "text/plain": [
       "<Figure size 2247.21x535.111 with 1 Axes>"
      ]
     },
     "execution_count": 39,
     "metadata": {},
     "output_type": "execute_result"
    }
   ],
   "source": [
    "qc.draw(output='mpl')"
   ]
  },
  {
   "cell_type": "code",
   "execution_count": 40,
   "id": "5b0d4419",
   "metadata": {
    "scrolled": true
   },
   "outputs": [],
   "source": [
    "# backend = BasicAer.get_backend(\"qasm_simulator\")\n",
    "# counts = execute(qc,shots=1000,backend=backend).result().get_counts()\n",
    "# counts"
   ]
  },
  {
   "cell_type": "code",
   "execution_count": 41,
   "id": "29faba32",
   "metadata": {},
   "outputs": [],
   "source": [
    "# plot_histogram(counts)"
   ]
  },
  {
   "cell_type": "code",
   "execution_count": 42,
   "id": "90505efe",
   "metadata": {},
   "outputs": [
    {
     "data": {
      "text/plain": [
       "array([0.1767767+0.00000000e+00j, 0.1767767+0.00000000e+00j,\n",
       "       0.1767767+0.00000000e+00j, 0.1767767+0.00000000e+00j,\n",
       "       0.1767767+0.00000000e+00j, 0.1767767+0.00000000e+00j,\n",
       "       0.1767767+0.00000000e+00j, 0.1767767+0.00000000e+00j,\n",
       "       0.1767767+0.00000000e+00j, 0.1767767+0.00000000e+00j,\n",
       "       0.1767767+0.00000000e+00j, 0.1767767+0.00000000e+00j,\n",
       "       0.1767767+0.00000000e+00j, 0.1767767+0.00000000e+00j,\n",
       "       0.1767767+0.00000000e+00j, 0.1767767+0.00000000e+00j,\n",
       "       0.1767767+0.00000000e+00j, 0.1767767+0.00000000e+00j,\n",
       "       0.1767767+0.00000000e+00j, 0.1767767+0.00000000e+00j,\n",
       "       0.1767767-2.77555756e-17j, 0.1767767-2.77555756e-17j,\n",
       "       0.1767767-1.38777878e-17j, 0.1767767-1.38777878e-17j,\n",
       "       0.1767767+0.00000000e+00j, 0.1767767+0.00000000e+00j,\n",
       "       0.1767767+0.00000000e+00j, 0.1767767+0.00000000e+00j,\n",
       "       0.1767767-2.77555756e-17j, 0.1767767-2.77555756e-17j,\n",
       "       0.1767767+0.00000000e+00j, 0.1767767+0.00000000e+00j])"
      ]
     },
     "execution_count": 42,
     "metadata": {},
     "output_type": "execute_result"
    }
   ],
   "source": [
    "backend = BasicAer.get_backend(\"statevector_simulator\")\n",
    "sv = execute(qc,shots=1000,backend=backend).result().get_statevector()\n",
    "sv"
   ]
  },
  {
   "cell_type": "code",
   "execution_count": 47,
   "id": "e94652e0",
   "metadata": {},
   "outputs": [
    {
     "data": {
      "text/latex": [
       "$$0.1767766953 |00000\\rangle+0.1767766953 |00001\\rangle+0.1767766953 |00010\\rangle+0.1767766953 |00011\\rangle+0.1767766953 |00100\\rangle+0.1767766953 |00101\\rangle + \\ldots +0.1767766953 |11011\\rangle+0.1767766953 |11100\\rangle+0.1767766953 |11101\\rangle+0.1767766953 |11110\\rangle+0.1767766953 |11111\\rangle$$"
      ],
      "text/plain": [
       "<IPython.core.display.Latex object>"
      ]
     },
     "execution_count": 47,
     "metadata": {},
     "output_type": "execute_result"
    }
   ],
   "source": [
    "import qiskit.quantum_info as qi\n",
    "state = qi.Statevector.from_instruction(qc)\n",
    "state.draw(output='latex') "
   ]
  },
  {
   "cell_type": "markdown",
   "id": "d19f50d1",
   "metadata": {},
   "source": []
  },
  {
   "cell_type": "code",
   "execution_count": null,
   "id": "e710a631",
   "metadata": {},
   "outputs": [],
   "source": []
  }
 ],
 "metadata": {
  "kernelspec": {
   "display_name": "Python 3 (ipykernel)",
   "language": "python",
   "name": "python3"
  },
  "language_info": {
   "codemirror_mode": {
    "name": "ipython",
    "version": 3
   },
   "file_extension": ".py",
   "mimetype": "text/x-python",
   "name": "python",
   "nbconvert_exporter": "python",
   "pygments_lexer": "ipython3",
   "version": "3.10.9"
  }
 },
 "nbformat": 4,
 "nbformat_minor": 5
}
