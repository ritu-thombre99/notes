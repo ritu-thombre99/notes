{
 "cells": [
  {
   "cell_type": "code",
   "execution_count": 1,
   "id": "4ae6d155",
   "metadata": {},
   "outputs": [],
   "source": [
    "import numpy as np"
   ]
  },
  {
   "cell_type": "code",
   "execution_count": 92,
   "id": "b5184415",
   "metadata": {},
   "outputs": [],
   "source": [
    "n=5\n",
    "t=5\n",
    "mat = np.zeros((n**t,n**t))"
   ]
  },
  {
   "cell_type": "code",
   "execution_count": 93,
   "id": "371ff460",
   "metadata": {
    "scrolled": true
   },
   "outputs": [
    {
     "name": "stdout",
     "output_type": "stream",
     "text": [
      "[4, 3]\n"
     ]
    }
   ],
   "source": [
    "def get_in_base(number,base):\n",
    "    string = []\n",
    "    while number > base:\n",
    "        string.insert(0,number%base)\n",
    "        number = number//base\n",
    "    string.insert(0,number)\n",
    "    print(string)\n",
    "# get_in_base(14,3)\n",
    "get_in_base(19,4)"
   ]
  },
  {
   "cell_type": "code",
   "execution_count": 1,
   "id": "a7bef27e",
   "metadata": {
    "scrolled": true
   },
   "outputs": [
    {
     "name": "stdout",
     "output_type": "stream",
     "text": [
      "n:  2 t:  2\n",
      "Coeffs: {0.0, 1.0, 2.0}\n",
      "Rank: 3\n",
      "Apprx: 3.0\n",
      "Eigval: 2.0 Count: 3\n",
      "-------\\----------------\\---------------\\---\n",
      "n:  3 t:  2\n",
      "Coeffs: {0.0, 1.0, 2.0}\n",
      "Rank: 6\n",
      "Apprx: 6.0\n",
      "Eigval: 2.0 Count: 6\n",
      "-------\\----------------\\---------------\\---\n",
      "n:  3 t:  3\n",
      "Coeffs: {0.0, 1.0, 2.0, 6.0}\n",
      "Rank: 10\n",
      "Apprx: 10.0\n",
      "Eigval: (6+0j) Count: 10\n",
      "-------\\----------------\\---------------\\---\n",
      "n:  4 t:  2\n",
      "Coeffs: {0.0, 1.0, 2.0}\n",
      "Rank: 10\n",
      "Apprx: 10.0\n",
      "Eigval: 2.0 Count: 10\n",
      "-------\\----------------\\---------------\\---\n",
      "n:  4 t:  3\n",
      "Coeffs: {0.0, 1.0, 2.0, 6.0}\n",
      "Rank: 20\n",
      "Apprx: 20.0\n",
      "Eigval: (6+0j) Count: 20\n",
      "-------\\----------------\\---------------\\---\n",
      "n:  4 t:  4\n",
      "Coeffs: {0.0, 1.0, 2.0, 4.0, 6.0, 24.0}\n",
      "Rank: 35\n",
      "Apprx: 35.0\n",
      "Eigval: (24+0j) Count: 35\n",
      "-------\\----------------\\---------------\\---\n",
      "n:  5 t:  2\n",
      "Coeffs: {0.0, 1.0, 2.0}\n",
      "Rank: 15\n",
      "Apprx: 15.0\n",
      "Eigval: 2.0 Count: 15\n",
      "-------\\----------------\\---------------\\---\n",
      "n:  5 t:  3\n",
      "Coeffs: {0.0, 1.0, 2.0, 6.0}\n",
      "Rank: 35\n",
      "Apprx: 35.0\n",
      "Eigval: (6+0j) Count: 35\n",
      "-------\\----------------\\---------------\\---\n",
      "n:  5 t:  4\n",
      "Coeffs: {0.0, 1.0, 2.0, 4.0, 6.0, 24.0}\n",
      "Rank: 70\n",
      "Apprx: 70.0\n",
      "Eigval: (24+0j) Count: 70\n",
      "-------\\----------------\\---------------\\---\n",
      "n:  5 t:  5\n",
      "Coeffs: {0.0, 1.0, 2.0, 4.0, 6.0, 12.0, 120.0, 24.0}\n",
      "Rank: 126\n",
      "Apprx: 126.0\n",
      "Eigval: (120+0j) Count: 126\n",
      "-------\\----------------\\---------------\\---\n"
     ]
    }
   ],
   "source": [
    "import math\n",
    "import numpy as np\n",
    "def get_in_base(number,base,size):\n",
    "    string = []\n",
    "    while number >= base:\n",
    "        string.insert(0,number%base)\n",
    "        number = number//base\n",
    "    string.insert(0,number)\n",
    "    while len(string) != size:\n",
    "        string.insert(0,0)  \n",
    "    return (string)\n",
    "        \n",
    "def print_bra_ket(arr,base,size):\n",
    "    string = ''\n",
    "    for a in arr:\n",
    "        a_in_n = get_in_base(a,base,size)\n",
    "        string = string + 'x' + str(a_in_n)\n",
    "    print(string)\n",
    "def upper_bound(n,t):\n",
    "    ub = 0\n",
    "    for i in range(1,t+1):\n",
    "        ub = ub + (math.factorial(n))/((math.factorial(n-i))*(math.factorial(i)))\n",
    "    return math.factorial(n+t-1)/(math.factorial(n-1)*math.factorial(t))\n",
    "\n",
    "for n in range(2,6):\n",
    "    for t in range(2,n+1):\n",
    "#     for t in range(2,3):\n",
    "        print(\"n: \", n, \"t: \", t)\n",
    "\n",
    "        mat = np.zeros((n**t,n**t))\n",
    "        for i in range(n**t):\n",
    "            base_n_i = get_in_base(i,n,t)\n",
    "            sorted_bin_i = sorted(base_n_i)\n",
    "            ele = 1\n",
    "            for s in set(base_n_i):\n",
    "                ele = ele*math.factorial(base_n_i.count(s))  \n",
    "            for j in range(n**t):\n",
    "                base_n_j = get_in_base(j,n,t)\n",
    "                sorted_bin_j = sorted(base_n_j)\n",
    "                if sorted_bin_j == sorted_bin_i:\n",
    "                    mat[i,j] = ele\n",
    "\n",
    "#         print(\"x==mat:\",np.allclose(x,mat))\n",
    "        evals,evecs=np.linalg.eig(mat)\n",
    "        weights = set(list(np.reshape(mat,(n**t)**2)))\n",
    "        print(\"Coeffs:\",weights)\n",
    "        print(\"Rank:\",np.linalg.matrix_rank(mat))\n",
    "#         print(\"eval:\",evals)\n",
    "        print(\"Apprx:\",upper_bound(n,t))\n",
    "        for i,ev in enumerate(np.round(evals,3)):\n",
    "            if ev != 0:\n",
    "                print(\"Eigval:\",ev,\"Count:\",list(np.round(evals,3)).count(ev))\n",
    "                break\n",
    "#                 eigvec = evecs[:,i]\n",
    "#                 mat_vec = np.matmul(mat,eigvec)\n",
    "#                 print_bra_ket(np.where(np.round(eigvec,3) > 0)[0],n,t)\n",
    "#                 print(eigvec[np.where(np.round(eigvec,3) > 0)])\n",
    "#                 print_bra_ket(np.where(np.round(mat_vec,3) > 0)[0],n,t)\n",
    "#                 print(mat_vec[np.where(np.round(mat_vec,3) > 0)])\n",
    "#                 print(\"---------------------------------------------\")\n",
    "#                 np.round(np.matmul(mat,evecs[-2]),3)\n",
    "        \n",
    "        print(\"-------\\----------------\\---------------\\---\")\n",
    "        "
   ]
  },
  {
   "cell_type": "code",
   "execution_count": null,
   "id": "0dbb471e",
   "metadata": {
    "scrolled": true
   },
   "outputs": [],
   "source": []
  },
  {
   "cell_type": "code",
   "execution_count": null,
   "id": "a9840e58",
   "metadata": {},
   "outputs": [],
   "source": []
  },
  {
   "cell_type": "code",
   "execution_count": null,
   "id": "21059bf2",
   "metadata": {},
   "outputs": [],
   "source": []
  },
  {
   "cell_type": "code",
   "execution_count": null,
   "id": "a94f845b",
   "metadata": {},
   "outputs": [],
   "source": []
  }
 ],
 "metadata": {
  "kernelspec": {
   "display_name": "Python [conda env:cpen400q]",
   "language": "python",
   "name": "conda-env-cpen400q-py"
  },
  "language_info": {
   "codemirror_mode": {
    "name": "ipython",
    "version": 3
   },
   "file_extension": ".py",
   "mimetype": "text/x-python",
   "name": "python",
   "nbconvert_exporter": "python",
   "pygments_lexer": "ipython3",
   "version": "3.11.5"
  }
 },
 "nbformat": 4,
 "nbformat_minor": 5
}
