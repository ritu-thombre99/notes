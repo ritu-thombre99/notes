{
 "cells": [
  {
   "cell_type": "code",
   "execution_count": 1,
   "id": "f770cb83",
   "metadata": {},
   "outputs": [],
   "source": [
    "from turtle import *\n",
    "import numpy as np"
   ]
  },
  {
   "cell_type": "code",
   "execution_count": 2,
   "id": "bbfad5a0",
   "metadata": {},
   "outputs": [],
   "source": [
    "def basic_turtle():\n",
    "    drawing_area = Screen()\n",
    "    drawing_area.setup(width=500, height=500)\n",
    "\n",
    "\n",
    "    shape('turtle')\n",
    "\n",
    "    speed(1)\n",
    "    forward(25)\n",
    "    back(50)\n",
    "    # home()\n",
    "    forward(25)\n",
    "    left(90)\n",
    "    forward(25)\n",
    "    back(50)\n",
    "    forward(25)\n",
    "\n",
    "    right(45)\n",
    "    forward(25)\n",
    "    back(50)\n",
    "    forward(25)\n",
    "\n",
    "\n",
    "    exitonclick()"
   ]
  },
  {
   "cell_type": "code",
   "execution_count": 3,
   "id": "35b5dca5",
   "metadata": {},
   "outputs": [],
   "source": [
    "def red_yellow_color_fill():\n",
    "    color('red', 'yellow')\n",
    "    speed(25)\n",
    "    begin_fill()\n",
    "    while True:\n",
    "        forward(200)\n",
    "        left(170)\n",
    "        if abs(pos()) < 1:\n",
    "            break\n",
    "    end_fill()\n",
    "\n",
    "    exitonclick()\n",
    "    # done()\n",
    "    "
   ]
  },
  {
   "cell_type": "code",
   "execution_count": 4,
   "id": "c44e87bd",
   "metadata": {},
   "outputs": [],
   "source": [
    "def fiboacci():\n",
    "    theta = 1\n",
    "    iter = 720\n",
    "    drawing_area = Screen()\n",
    "    drawing_area.setup(width=1.0, height=1.0)\n",
    "\n",
    "    shape('turtle')\n",
    "\n",
    "    speed(3)\n",
    "    for i in range(1,iter+1):\n",
    "        forward(25)\n",
    "        left(i*theta)\n",
    "\n",
    "    exitonclick()\n",
    "    # done()"
   ]
  },
  {
   "cell_type": "code",
   "execution_count": 5,
   "id": "a89ea3bb",
   "metadata": {
    "scrolled": true
   },
   "outputs": [],
   "source": [
    "def fibonacci_with_theta():\n",
    "    theta = 1.03\n",
    "    iter = 5000\n",
    "    drawing_area = Screen()\n",
    "    drawing_area.setup(width=1.0, height=1.0)\n",
    "\n",
    "    shape('turtle')\n",
    "\n",
    "    speed(75)\n",
    "    for i in range(1,iter):\n",
    "        forward(2)\n",
    "        left(i*theta)\n",
    "\n",
    "    exitonclick()\n",
    "    # done()"
   ]
  },
  {
   "cell_type": "code",
   "execution_count": 6,
   "id": "ae4e2ab4",
   "metadata": {},
   "outputs": [],
   "source": [
    "def sierpinski_triangle():\n",
    "    drawing_area = Screen()\n",
    "    drawing_area.setup(width=1.0, height=1.0)\n",
    "\n",
    "    shape('turtle')\n",
    "\n",
    "    speed(75)\n",
    "\n",
    "    instr = \"X\"\n",
    "    for iters in range(8):\n",
    "        next_instr = \"\"\n",
    "        for i in instr.split(\" \"):\n",
    "            if i == \"X\":\n",
    "                next_instr = next_instr + \"Y + X + Y\"\n",
    "            elif i == \"Y\":\n",
    "                next_instr = next_instr + \"X - Y - X\"\n",
    "            else:\n",
    "                next_instr = next_instr + \" \" + i + \" \"\n",
    "        instr = next_instr\n",
    "\n",
    "    print(instr)\n",
    "    forward(2)\n",
    "    for i in instr.split(\" \"):\n",
    "        if i == \"+\":\n",
    "            right(60)\n",
    "            forward(2)\n",
    "        elif i == \"-\":\n",
    "            left(60)\n",
    "            forward(2)\n",
    "\n",
    "    exitonclick()\n",
    "    "
   ]
  },
  {
   "cell_type": "code",
   "execution_count": null,
   "id": "5dd02357",
   "metadata": {},
   "outputs": [],
   "source": [
    "\n"
   ]
  },
  {
   "cell_type": "code",
   "execution_count": null,
   "id": "3ee9b8cc",
   "metadata": {
    "scrolled": true
   },
   "outputs": [],
   "source": []
  },
  {
   "cell_type": "code",
   "execution_count": 7,
   "id": "9eadfdd8",
   "metadata": {
    "scrolled": false
   },
   "outputs": [],
   "source": [
    "import math\n",
    "fib = []\n",
    "a,b = 0,1\n",
    "c = a + b\n",
    "fib.append(c)\n",
    "for i in range(1,10001):\n",
    "    a = b\n",
    "    b = c\n",
    "    c = a + b\n",
    "    fib.append(c)"
   ]
  },
  {
   "cell_type": "code",
   "execution_count": 8,
   "id": "5f151a66",
   "metadata": {},
   "outputs": [
    {
     "data": {
      "text/plain": [
       "(88083137989997064605355872998857923445691333015376030932812485815888664307789011385238647061572694566755888008658862476758094375234981509702215595106015601812940878487465890539696395631360292400123725490667987980947195761919733084221263262792135552511961663188744083262743015393903228035182529922900769207624088879893951554938584166812233127685528968882435827903110743620870056104022290494963321073406865860606579792362403866826411642270661211435590340090149458419810817251120025713501918959350654895682804718752319215892119222907223279849851227166387954139546662644064653804466345416102543306712688251378793506564112970620367672131344559199027717813404940431009754143637417645359401155245658646088296578097547699141284451819782703782878668237441026255023475279003880007450550868002409533068098127495095667313120369142331519140185017719214501847645741030739351025342932514280625453085775191996236343792432215700850773568257988920265539647922172315902209901079830195949058505943508013044450503826167880993094540503572266189964694973263576375908606977788395730196227274629745722872833622300472769312273603346624292690875697438264265712313123637644491367875538847442013130532147345613099333195400845560466085176375175045485046787815133225349388996334014329318304865656815129208586686515835880811316065788759195646547703631454040090435955879604123186007481842117640574158367996845627012099571008761776991075470991386301988104753915798231741447012236434261594666985397841758348337030914623617101746431922708522824868155612811426016775968762121429282582582088871795463467796927317452368633552346819405423359738696980252707545944266042764236577381721803749442538053900196250284054406347238606575093877669323501452512412179883698552204038865069179867773579705703841178650618818357366165649529547898801198617541432893443650952033983923542592952070864044249738338089778163986683069566736505126466886304227253105034231716761535350441178724210841830855527586882822093246545813120624113290391593897765219320931179697869997243770533719319530526369830529543842405655495229382251039116426750156771132964376,\n",
       " 2090)"
      ]
     },
     "execution_count": 8,
     "metadata": {},
     "output_type": "execute_result"
    }
   ],
   "source": [
    "fib[-1], len(str(fib[-1]))"
   ]
  },
  {
   "cell_type": "code",
   "execution_count": 9,
   "id": "cb0778e7",
   "metadata": {
    "scrolled": true
   },
   "outputs": [],
   "source": [
    "def digits_from_large_fibonacci():\n",
    "    drawing_area = Screen()\n",
    "    drawing_area.setup(width=1.0, height=1.0)\n",
    "\n",
    "    shape('turtle')\n",
    "\n",
    "    speed(75)\n",
    "\n",
    "    for i in str(fib[-1]):\n",
    "        forward(5)\n",
    "        left(int(i)*36)\n",
    "\n",
    "    exitonclick()"
   ]
  },
  {
   "cell_type": "code",
   "execution_count": null,
   "id": "9a615a3a",
   "metadata": {},
   "outputs": [],
   "source": []
  },
  {
   "cell_type": "code",
   "execution_count": null,
   "id": "83c883cb",
   "metadata": {},
   "outputs": [],
   "source": []
  },
  {
   "cell_type": "code",
   "execution_count": null,
   "id": "cda5ebb6",
   "metadata": {},
   "outputs": [],
   "source": []
  },
  {
   "cell_type": "code",
   "execution_count": null,
   "id": "3bfdf999",
   "metadata": {},
   "outputs": [],
   "source": []
  },
  {
   "cell_type": "code",
   "execution_count": null,
   "id": "6c171cbb",
   "metadata": {},
   "outputs": [],
   "source": []
  },
  {
   "cell_type": "code",
   "execution_count": null,
   "id": "ad87705f",
   "metadata": {},
   "outputs": [],
   "source": []
  },
  {
   "cell_type": "code",
   "execution_count": null,
   "id": "8b352a8d",
   "metadata": {
    "scrolled": true
   },
   "outputs": [],
   "source": []
  },
  {
   "cell_type": "code",
   "execution_count": null,
   "id": "94bfb9ab",
   "metadata": {},
   "outputs": [],
   "source": []
  },
  {
   "cell_type": "code",
   "execution_count": null,
   "id": "daea3bf2",
   "metadata": {},
   "outputs": [],
   "source": []
  }
 ],
 "metadata": {
  "kernelspec": {
   "display_name": "Python 3 (ipykernel)",
   "language": "python",
   "name": "python3"
  },
  "language_info": {
   "codemirror_mode": {
    "name": "ipython",
    "version": 3
   },
   "file_extension": ".py",
   "mimetype": "text/x-python",
   "name": "python",
   "nbconvert_exporter": "python",
   "pygments_lexer": "ipython3",
   "version": "3.10.9"
  }
 },
 "nbformat": 4,
 "nbformat_minor": 5
}
