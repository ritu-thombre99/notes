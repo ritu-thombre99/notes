{
 "cells": [
  {
   "cell_type": "code",
   "execution_count": 98,
   "id": "d81f5316",
   "metadata": {},
   "outputs": [],
   "source": [
    "import numpy as np\n",
    "import pennylane as qml\n",
    "import qiskit\n",
    "from qiskit.visualization import array_to_latex\n",
    "import scipy"
   ]
  },
  {
   "cell_type": "code",
   "execution_count": 99,
   "id": "7e12211c",
   "metadata": {},
   "outputs": [],
   "source": [
    "def get_hamiltonian(unitary, time):\n",
    "    lambdas, gamma = np.linalg.eig(unitary)\n",
    "    phis = []\n",
    "    for l in lambdas:\n",
    "        phis.append(np.angle(l))\n",
    "    big_phi = np.diag(np.array(phis))\n",
    "    hermitian = (-1/time)*(np.matmul(gamma,np.matmul(big_phi,np.linalg.inv(gamma))))\n",
    "    print(\"Check if U==exp(-ijH_t):\\n\",np.round(scipy.linalg.expm(-1j*hermitian*time),2))\n",
    "    return qml.pauli_decompose(hermitian, pauli=True)"
   ]
  },
  {
   "cell_type": "code",
   "execution_count": 100,
   "id": "2afed42a",
   "metadata": {},
   "outputs": [],
   "source": [
    "dev1 = qml.device(\"default.qubit\",wires=1)\n",
    "@qml.qnode(dev1)\n",
    "def get_hadamard():\n",
    "    qml.Hadamard(0)\n",
    "    return qml.state()\n",
    "\n",
    "\n",
    "dev2 = qml.device(\"default.qubit\",wires=3)\n",
    "@qml.qnode(dev2)\n",
    "def qft_3():\n",
    "    qml.Hadamard(0)\n",
    "    qml.ControlledPhaseShift(np.pi*2**(1-2), wires=[0,1])\n",
    "    qml.ControlledPhaseShift(np.pi*2**(1-3), wires=[0,2])\n",
    "    \n",
    "    qml.Hadamard(1)\n",
    "    qml.ControlledPhaseShift(np.pi*2**(1-2), wires=[1,2])\n",
    "    \n",
    "    qml.Hadamard(2)\n",
    "    \n",
    "    qml.SWAP(wires=[0,2])\n",
    "    return qml.state()\n",
    "\n",
    "dev3 = qml.device(\"default.qubit\",wires=4)\n",
    "def inverse_qft():\n",
    "    \n",
    "    qml.SWAP(wires=[0,2])\n",
    "    \n",
    "    qml.Hadamard(2)\n",
    "    \n",
    "    qml.ControlledPhaseShift(-1*np.pi*2**(1-2), wires=[1,2])\n",
    "    qml.Hadamard(1)\n",
    "    \n",
    "    qml.ControlledPhaseShift(-1*np.pi*2**(1-3), wires=[0,2])\n",
    "    qml.ControlledPhaseShift(-1*np.pi*2**(1-2), wires=[0,1])\n",
    "    qml.Hadamard(0)\n",
    "\n",
    "@qml.qnode(dev3)\n",
    "def qpe():\n",
    "    for i in range(3):\n",
    "        qml.Hadamard(i)\n",
    "        \n",
    "    # eigenvector\n",
    "    qml.PauliX(3)\n",
    "    \n",
    "    # controlled unitaries\n",
    "    base_angle = 5*np.pi/4\n",
    "    qml.ControlledPhaseShift(base_angle, wires=[2,3])\n",
    "    qml.ControlledPhaseShift(2*base_angle, wires=[1,3])    \n",
    "    qml.ControlledPhaseShift(4*base_angle, wires=[0,3])    \n",
    "    \n",
    "    # inverse QFT\n",
    "    \n",
    "    inverse_qft()\n",
    "    \n",
    "    return qml.probs(wires=[0,1,2])\n",
    "\n",
    "@qml.qnode(dev3)\n",
    "def xs():\n",
    "    for i in range(4):\n",
    "        qml.PauliX(i)\n",
    "#         qml.PauliZ(i)\n",
    "    return qml.probs(wires=[0,1,2])\n",
    "\n",
    "\n",
    "dev4 = qml.device(\"default.qubit\",wires=2)\n",
    "@qml.qnode(dev4)\n",
    "def get_swap():\n",
    "    qml.SWAP([0,1])\n",
    "    return qml.state()"
   ]
  },
  {
   "cell_type": "code",
   "execution_count": 101,
   "id": "a487cb7f",
   "metadata": {
    "scrolled": true
   },
   "outputs": [
    {
     "data": {
      "text/plain": [
       "array([[ 0.5,  0.5,  0.5,  0.5],\n",
       "       [ 0.5, -0.5,  0.5, -0.5],\n",
       "       [ 0.5,  0.5, -0.5, -0.5],\n",
       "       [ 0.5, -0.5, -0.5,  0.5]])"
      ]
     },
     "execution_count": 101,
     "metadata": {},
     "output_type": "execute_result"
    }
   ],
   "source": [
    "U = qml.matrix(get_hadamard)()\n",
    "U = np.kron(U,U)\n",
    "# U = qml.matrix(qft_3)()\n",
    "# U = qml.matrix(qpe)()\n",
    "# U = qml.matrix(xs)()\n",
    "# U = qml.matrix(get_swap)()\n",
    "U"
   ]
  },
  {
   "cell_type": "code",
   "execution_count": 102,
   "id": "19ad89c0",
   "metadata": {
    "scrolled": false
   },
   "outputs": [
    {
     "name": "stdout",
     "output_type": "stream",
     "text": [
      "Check if U==exp(-ijH_t):\n",
      " [[ 0.5+0.j  0.5-0.j  0.5-0.j  0.5+0.j]\n",
      " [ 0.5+0.j -0.5+0.j  0.5+0.j -0.5+0.j]\n",
      " [ 0.5-0.j  0.5+0.j -0.5+0.j -0.5+0.j]\n",
      " [ 0.5-0.j -0.5-0.j -0.5-0.j  0.5+0.j]]\n",
      "-6.544984694978735 * I\n",
      "+ 3.272492347489368 * X(0) @ X(1)\n",
      "+ 3.2724923474893686 * X(0) @ Z(1)\n",
      "+ 3.2724923474893677 * Z(0) @ X(1)\n",
      "+ 3.272492347489368 * Z(0) @ Z(1)\n"
     ]
    }
   ],
   "source": [
    "hamiltonian = get_hamiltonian(U,0.24)\n",
    "# hamiltonian = qml.pauli_decompose(U, pauli=True)\n",
    "print(hamiltonian)"
   ]
  },
  {
   "cell_type": "code",
   "execution_count": 103,
   "id": "9c10f444",
   "metadata": {
    "scrolled": true
   },
   "outputs": [
    {
     "name": "stdout",
     "output_type": "stream",
     "text": [
      "I -6.544984694978735\n",
      "['I']\n",
      "X(0) @ X(1) 3.272492347489368\n",
      "['X0', 'X1']\n",
      "X(0) @ Z(1) 3.2724923474893686\n",
      "['X0', 'Z1']\n",
      "Z(0) @ X(1) 3.2724923474893677\n",
      "['Z0', 'X1']\n",
      "Z(0) @ Z(1) 3.272492347489368\n",
      "['Z0', 'Z1']\n"
     ]
    }
   ],
   "source": [
    "# !pip install simuq\n",
    "paulis = []\n",
    "for h in hamiltonian:\n",
    "    print(h, hamiltonian[h])\n",
    "    word = str(h).replace(\" \",'')\n",
    "    word = word.replace(\"(\",'')\n",
    "    word = word.replace(\")\",'')\n",
    "    paulis.append((word.split(\"@\"),hamiltonian[h]))\n",
    "    print(word.split(\"@\"))"
   ]
  },
  {
   "cell_type": "code",
   "execution_count": 104,
   "id": "fcdbe97f",
   "metadata": {},
   "outputs": [
    {
     "data": {
      "text/plain": [
       "[(['I'], -6.544984694978735),\n",
       " (['X0', 'X1'], 3.272492347489368),\n",
       " (['X0', 'Z1'], 3.2724923474893686),\n",
       " (['Z0', 'X1'], 3.2724923474893677),\n",
       " (['Z0', 'Z1'], 3.272492347489368)]"
      ]
     },
     "execution_count": 104,
     "metadata": {},
     "output_type": "execute_result"
    }
   ],
   "source": [
    "paulis"
   ]
  },
  {
   "cell_type": "code",
   "execution_count": 105,
   "id": "2a7a1dcc",
   "metadata": {},
   "outputs": [
    {
     "name": "stdout",
     "output_type": "stream",
     "text": [
      "(['I'], -6.544984694978735)\n",
      "(['X0', 'X1'], 3.272492347489368)\n",
      "(['X0', 'Z1'], 3.2724923474893686)\n",
      "(['Z0', 'X1'], 3.2724923474893677)\n",
      "(['Z0', 'Z1'], 3.272492347489368)\n",
      "<simuq.hamiltonian.TIHamiltonian object at 0x7f1ce14dc9d0>\n"
     ]
    }
   ],
   "source": [
    "from simuq import QSystem, Qubit\n",
    "n, T = 2, 1/4\n",
    "qs = QSystem()\n",
    "q = [Qubit(qs) for i in range(n)]\n",
    "H = 0\n",
    "for p in paulis:\n",
    "    gates, coeff = p\n",
    "    print(p)\n",
    "    h_curr = coeff*q[0].I\n",
    "    for gate in gates:\n",
    "        if \"Z\" in gate:\n",
    "            h_curr = h_curr * q[int(gate[1])].Z\n",
    "        elif \"X\" in gate:\n",
    "            h_curr = h_curr * q[int(gate[1])].X\n",
    "        elif \"Y\" in gate:\n",
    "            h_curr = h_curr * q[int(gate[1])].Y\n",
    "    H = H + (h_curr)\n",
    "print(H)\n",
    "\n"
   ]
  },
  {
   "cell_type": "code",
   "execution_count": 106,
   "id": "988e0d58",
   "metadata": {},
   "outputs": [],
   "source": [
    "# !pip install simuq"
   ]
  },
  {
   "cell_type": "code",
   "execution_count": 107,
   "id": "b09e0962",
   "metadata": {},
   "outputs": [
    {
     "data": {
      "text/latex": [
       "Quantum object: dims = [[4], [1]], shape = (4, 1), type = ket $ \\\\ \\left(\\begin{matrix}0.0\\\\1.0\\\\0.0\\\\0.0\\\\\\end{matrix}\\right)$"
      ],
      "text/plain": [
       "Quantum object: dims = [[4], [1]], shape = (4, 1), type = ket\n",
       "Qobj data =\n",
       "[[0.]\n",
       " [1.]\n",
       " [0.]\n",
       " [0.]]"
      ]
     },
     "execution_count": 107,
     "metadata": {},
     "output_type": "execute_result"
    }
   ],
   "source": [
    "from qutip import Qobj, tensor\n",
    "\n",
    "# minus = Qobj([[0], [1]])\n",
    "# initial_state = tensor([minus] * 2)\n",
    "initial_state = tensor(Qobj([[0],[1],[0],[0]]))\n",
    "# initial_state = Qobj([[1], [0]])\n",
    "initial_state"
   ]
  },
  {
   "cell_type": "code",
   "execution_count": 108,
   "id": "c5e4b588",
   "metadata": {},
   "outputs": [],
   "source": [
    "qs.add_evolution(H, T)"
   ]
  },
  {
   "cell_type": "code",
   "execution_count": 109,
   "id": "99af7d6b",
   "metadata": {},
   "outputs": [
    {
     "name": "stdout",
     "output_type": "stream",
     "text": [
      "Compiled.\n",
      "Solved.\n"
     ]
    },
    {
     "data": {
      "text/plain": [
       "{'00': 0.2489326376635191,\n",
       " '01': 0.2532020870094425,\n",
       " '10': 0.24893263766351906,\n",
       " '11': 0.2489326376635192}"
      ]
     },
     "execution_count": 109,
     "metadata": {},
     "output_type": "execute_result"
    }
   ],
   "source": [
    "from simuq.qutip import QuTiPProvider\n",
    "qpp = QuTiPProvider()\n",
    "qpp.compile(qs,initial_state=initial_state)\n",
    "qpp.run()\n",
    "qpp.results()"
   ]
  },
  {
   "cell_type": "code",
   "execution_count": 110,
   "id": "3f9fa7d3",
   "metadata": {},
   "outputs": [],
   "source": [
    "# !pip install qutip"
   ]
  },
  {
   "cell_type": "code",
   "execution_count": 96,
   "id": "75acacb4",
   "metadata": {},
   "outputs": [],
   "source": [
    "# !pip install amazon-braket-sdk"
   ]
  },
  {
   "cell_type": "code",
   "execution_count": 97,
   "id": "994dc7cb",
   "metadata": {},
   "outputs": [],
   "source": [
    "# np.linalg.inv(gamma)"
   ]
  },
  {
   "cell_type": "code",
   "execution_count": null,
   "id": "31376797",
   "metadata": {},
   "outputs": [],
   "source": []
  },
  {
   "cell_type": "code",
   "execution_count": null,
   "id": "5cadcdda",
   "metadata": {},
   "outputs": [],
   "source": []
  },
  {
   "cell_type": "code",
   "execution_count": null,
   "id": "f508a3ec",
   "metadata": {},
   "outputs": [],
   "source": []
  },
  {
   "cell_type": "code",
   "execution_count": null,
   "id": "424537e2",
   "metadata": {},
   "outputs": [],
   "source": []
  }
 ],
 "metadata": {
  "kernelspec": {
   "display_name": "dnn_for_qubit_mapping",
   "language": "python",
   "name": "dnn_for_qubit_mapping"
  },
  "language_info": {
   "codemirror_mode": {
    "name": "ipython",
    "version": 3
   },
   "file_extension": ".py",
   "mimetype": "text/x-python",
   "name": "python",
   "nbconvert_exporter": "python",
   "pygments_lexer": "ipython3",
   "version": "3.8.18"
  }
 },
 "nbformat": 4,
 "nbformat_minor": 5
}
